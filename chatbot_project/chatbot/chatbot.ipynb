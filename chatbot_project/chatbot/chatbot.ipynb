{
  "cells": [
    {
      "cell_type": "code",
      "execution_count": 1,
      "metadata": {
        "colab": {
          "base_uri": "https://localhost:8080/"
        },
        "id": "m_IWP6iU-azy",
        "outputId": "a3acff72-a2da-4d60-940b-aca6192efb9d"
      },
      "outputs": [
        {
          "name": "stdout",
          "output_type": "stream",
          "text": [
            "   questionID                              questionTitle  \\\n",
            "0           0  Do I have too many issues for counseling?   \n",
            "1           0  Do I have too many issues for counseling?   \n",
            "2           0  Do I have too many issues for counseling?   \n",
            "3           0  Do I have too many issues for counseling?   \n",
            "4           0  Do I have too many issues for counseling?   \n",
            "\n",
            "                                        questionText  \\\n",
            "0  I have so many issues to address. I have a his...   \n",
            "1  I have so many issues to address. I have a his...   \n",
            "2  I have so many issues to address. I have a his...   \n",
            "3  I have so many issues to address. I have a his...   \n",
            "4  I have so many issues to address. I have a his...   \n",
            "\n",
            "                                        questionLink       topic  \\\n",
            "0  https://counselchat.com/questions/do-i-have-to...  depression   \n",
            "1  https://counselchat.com/questions/do-i-have-to...  depression   \n",
            "2  https://counselchat.com/questions/do-i-have-to...  depression   \n",
            "3  https://counselchat.com/questions/do-i-have-to...  depression   \n",
            "4  https://counselchat.com/questions/do-i-have-to...  depression   \n",
            "\n",
            "                                       therapistInfo  \\\n",
            "0  Jennifer MolinariHypnotherapist & Licensed Cou...   \n",
            "1  Jason Lynch, MS, LMHC, LCAC, ADSIndividual & C...   \n",
            "2  Shakeeta TorresFaith Based Mental Health Couns...   \n",
            "3  Noorayne ChevalierMA, RP, CCC, CCAC, LLP (Mich...   \n",
            "4  Toni Teixeira, LCSWYour road to healing begins...   \n",
            "\n",
            "                                        therapistURL  \\\n",
            "0  https://counselchat.com/therapists/jennifer-mo...   \n",
            "1  https://counselchat.com/therapists/jason-lynch...   \n",
            "2  https://counselchat.com/therapists/shakeeta-to...   \n",
            "3  https://counselchat.com/therapists/noorayne-ch...   \n",
            "4  https://counselchat.com/therapists/toni-teixei...   \n",
            "\n",
            "                                          answerText  upvotes  views  \n",
            "0  It is very common for people to have multiple ...        3   1971  \n",
            "1  I've never heard of someone having \"too many i...        2    386  \n",
            "2  Absolutely not.  I strongly recommending worki...        2   3071  \n",
            "3  Let me start by saying there are never too man...        2   2643  \n",
            "4  I just want to acknowledge you for the courage...        1    256  \n"
          ]
        }
      ],
      "source": [
        "import pandas as pd\n",
        "\n",
        "# Define the correct file path\n",
        "csv_path = r\"C:\\Users\\chara\\OneDrive\\Desktop\\chatbot\\chatbot_project\\chatbot\\datasets\\data.csv\"\n",
        "\n",
        "# Load the CSV file\n",
        "df = pd.read_csv(csv_path)\n",
        "\n",
        "# Display the first few rows\n",
        "print(df.head())\n"
      ]
    },
    {
      "cell_type": "code",
      "execution_count": 2,
      "metadata": {
        "colab": {
          "base_uri": "https://localhost:8080/"
        },
        "id": "MWVVsqRnAuMD",
        "outputId": "55d0c37c-b0aa-42df-9b2b-4dbd2bdae51a"
      },
      "outputs": [
        {
          "name": "stdout",
          "output_type": "stream",
          "text": [
            "                               questionTitle  \\\n",
            "0  Do I have too many issues for counseling?   \n",
            "1  Do I have too many issues for counseling?   \n",
            "2  Do I have too many issues for counseling?   \n",
            "3  Do I have too many issues for counseling?   \n",
            "4  Do I have too many issues for counseling?   \n",
            "\n",
            "                                        questionText       topic  \\\n",
            "0  I have so many issues to address. I have a his...  depression   \n",
            "1  I have so many issues to address. I have a his...  depression   \n",
            "2  I have so many issues to address. I have a his...  depression   \n",
            "3  I have so many issues to address. I have a his...  depression   \n",
            "4  I have so many issues to address. I have a his...  depression   \n",
            "\n",
            "                                          answerText  \n",
            "0  It is very common for people to have multiple ...  \n",
            "1  I've never heard of someone having \"too many i...  \n",
            "2  Absolutely not.  I strongly recommending worki...  \n",
            "3  Let me start by saying there are never too man...  \n",
            "4  I just want to acknowledge you for the courage...  \n"
          ]
        }
      ],
      "source": [
        "# Select only relevant columns\n",
        "df = df[['questionTitle', 'questionText', 'topic', 'answerText']]\n",
        "\n",
        "# Drop rows where 'answerText' is missing\n",
        "df = df.dropna(subset=['answerText'])\n",
        "\n",
        "# Fill missing questionText with empty string (optional)\n",
        "df['questionText'] = df['questionText'].fillna('')\n",
        "\n",
        "# Show cleaned dataset\n",
        "print(df.head())\n"
      ]
    },
    {
      "cell_type": "code",
      "execution_count": 3,
      "metadata": {},
      "outputs": [
        {
          "name": "stderr",
          "output_type": "stream",
          "text": [
            "[nltk_data] Downloading package stopwords to\n",
            "[nltk_data]     C:\\Users\\chara\\AppData\\Roaming\\nltk_data...\n",
            "[nltk_data]   Package stopwords is already up-to-date!\n",
            "[nltk_data] Downloading package punkt to\n",
            "[nltk_data]     C:\\Users\\chara\\AppData\\Roaming\\nltk_data...\n",
            "[nltk_data]   Package punkt is already up-to-date!\n"
          ]
        },
        {
          "data": {
            "text/plain": [
              "True"
            ]
          },
          "execution_count": 3,
          "metadata": {},
          "output_type": "execute_result"
        }
      ],
      "source": [
        "import pandas as pd\n",
        "import nltk\n",
        "from nltk.corpus import stopwords\n",
        "from nltk.tokenize import word_tokenize\n",
        "nltk.download(\"stopwords\")\n",
        "nltk.download(\"punkt\")"
      ]
    },
    {
      "cell_type": "code",
      "execution_count": 4,
      "metadata": {},
      "outputs": [
        {
          "name": "stdout",
          "output_type": "stream",
          "text": [
            "['a', 'about', 'above', 'after', 'again', 'against', 'ain', 'all', 'am', 'an']\n"
          ]
        }
      ],
      "source": [
        "import nltk\n",
        "import os\n",
        "\n",
        "# Explicitly set the path where NLTK should look for stopwords\n",
        "nltk.data.path.append(os.path.join(os.path.expanduser(\"~\"), \"AppData\", \"Roaming\", \"nltk_data\"))\n",
        "\n",
        "# Try using stopwords\n",
        "from nltk.corpus import stopwords\n",
        "print(stopwords.words(\"english\")[:10])  # Print first 10 stopwords\n"
      ]
    },
    {
      "cell_type": "code",
      "execution_count": 5,
      "metadata": {},
      "outputs": [
        {
          "name": "stderr",
          "output_type": "stream",
          "text": [
            "[nltk_data] Downloading package stopwords to\n",
            "[nltk_data]     C:\\Users\\chara\\AppData\\Roaming\\nltk_data...\n",
            "[nltk_data]   Package stopwords is already up-to-date!\n"
          ]
        },
        {
          "data": {
            "text/plain": [
              "True"
            ]
          },
          "execution_count": 5,
          "metadata": {},
          "output_type": "execute_result"
        }
      ],
      "source": [
        "import nltk\n",
        "nltk.download(\"stopwords\")\n"
      ]
    },
    {
      "cell_type": "code",
      "execution_count": 6,
      "metadata": {},
      "outputs": [
        {
          "name": "stdout",
          "output_type": "stream",
          "text": [
            "✅ Data cleaning complete. Saved as 'C:\\Users\\chara\\OneDrive\\Desktop\\chatbot\\chatbot_project\\chatbot\\datasets\\cleaned_data.csv'!\n"
          ]
        }
      ],
      "source": [
        "import pandas as pd\n",
        "\n",
        "# Manually define stopwords\n",
        "manual_stopwords = {\n",
        "    \"i\", \"me\", \"my\", \"myself\", \"we\", \"our\", \"ours\", \"ourselves\", \"you\", \"your\",\n",
        "    \"yours\", \"yourself\", \"yourselves\", \"he\", \"him\", \"his\", \"himself\", \"she\", \"her\",\n",
        "    \"hers\", \"herself\", \"it\", \"its\", \"itself\", \"they\", \"them\", \"their\", \"theirs\",\n",
        "    \"themselves\", \"what\", \"which\", \"who\", \"whom\", \"this\", \"that\", \"these\", \"those\",\n",
        "    \"am\", \"are\", \"was\", \"were\", \"be\", \"been\", \"being\", \"have\", \"has\", \"had\",\n",
        "    \"having\", \"do\", \"does\", \"did\", \"doing\", \"a\", \"an\", \"the\", \"and\", \"but\", \"if\",\n",
        "    \"or\", \"because\", \"as\", \"until\", \"while\", \"of\", \"at\", \"by\", \"for\", \"with\",\n",
        "    \"about\", \"against\", \"between\", \"into\", \"through\", \"during\", \"before\", \"after\",\n",
        "    \"above\", \"below\", \"to\", \"from\", \"up\", \"down\", \"in\", \"out\", \"on\", \"off\", \"over\",\n",
        "    \"under\", \"again\", \"further\", \"then\", \"once\", \"here\", \"there\", \"when\", \"where\",\n",
        "    \"why\", \"how\", \"all\", \"any\", \"both\", \"each\", \"few\", \"more\", \"most\", \"other\",\n",
        "    \"some\", \"such\", \"no\", \"nor\", \"only\", \"own\", \"same\", \"so\", \"than\",\n",
        "    \"too\", \"very\", \"s\", \"t\", \"just\", \"don\", \"should\", \"now\"\n",
        "}\n",
        "\n",
        "# Keep important words like 'not', 'is', 'can', 'will'\n",
        "manual_stopwords -= {\"not\", \"is\", \"can\", \"will\"}\n",
        "\n",
        "# Function to remove stopwords using `split()`\n",
        "def remove_stopwords(text):\n",
        "    if pd.isna(text):  # Handle missing values\n",
        "        return \"\"\n",
        "    words = str(text).split()  # Use split() instead of word_tokenize()\n",
        "    filtered_text = \" \".join([word for word in words if word.lower() not in manual_stopwords])\n",
        "    return filtered_text\n",
        "\n",
        "\n",
        "# Apply stopword removal\n",
        "df[\"cleaned_question\"] = df[\"questionText\"].astype(str).apply(remove_stopwords)\n",
        "df[\"cleaned_answer\"] = df[\"answerText\"].astype(str).apply(remove_stopwords)\n",
        "\n",
        "# Save cleaned data\n",
        "output_path = \"C:\\\\Users\\\\chara\\\\OneDrive\\\\Desktop\\\\chatbot\\\\chatbot_project\\\\chatbot\\\\datasets\\\\cleaned_data.csv\"\n",
        "df.to_csv(output_path, index=False)\n",
        "\n",
        "print(f\"✅ Data cleaning complete. Saved as '{output_path}'!\")\n"
      ]
    },
    {
      "cell_type": "code",
      "execution_count": 7,
      "metadata": {},
      "outputs": [
        {
          "name": "stderr",
          "output_type": "stream",
          "text": [
            "[nltk_data] Downloading package wordnet to\n",
            "[nltk_data]     C:\\Users\\chara\\AppData\\Roaming\\nltk_data...\n",
            "[nltk_data]   Package wordnet is already up-to-date!\n"
          ]
        }
      ],
      "source": [
        "import nltk\n",
        "from nltk.stem import WordNetLemmatizer\n",
        "\n",
        "nltk.download('wordnet')\n",
        "\n",
        "lemmatizer = WordNetLemmatizer()\n",
        "\n",
        "def lemmatize_text(text):\n",
        "    words = text.split()\n",
        "    return \" \".join([lemmatizer.lemmatize(word) for word in words])\n",
        "\n",
        "df[\"lemmatized_question\"] = df[\"cleaned_question\"].apply(lemmatize_text)\n",
        "df[\"lemmatized_answer\"] = df[\"cleaned_answer\"].apply(lemmatize_text)\n"
      ]
    },
    {
      "cell_type": "code",
      "execution_count": 8,
      "metadata": {},
      "outputs": [
        {
          "data": {
            "text/html": [
              "<div>\n",
              "<style scoped>\n",
              "    .dataframe tbody tr th:only-of-type {\n",
              "        vertical-align: middle;\n",
              "    }\n",
              "\n",
              "    .dataframe tbody tr th {\n",
              "        vertical-align: top;\n",
              "    }\n",
              "\n",
              "    .dataframe thead th {\n",
              "        text-align: right;\n",
              "    }\n",
              "</style>\n",
              "<table border=\"1\" class=\"dataframe\">\n",
              "  <thead>\n",
              "    <tr style=\"text-align: right;\">\n",
              "      <th></th>\n",
              "      <th>questionTitle</th>\n",
              "      <th>questionText</th>\n",
              "      <th>topic</th>\n",
              "      <th>answerText</th>\n",
              "      <th>cleaned_question</th>\n",
              "      <th>cleaned_answer</th>\n",
              "      <th>lemmatized_question</th>\n",
              "      <th>lemmatized_answer</th>\n",
              "    </tr>\n",
              "  </thead>\n",
              "  <tbody>\n",
              "    <tr>\n",
              "      <th>0</th>\n",
              "      <td>Do I have too many issues for counseling?</td>\n",
              "      <td>I have so many issues to address. I have a his...</td>\n",
              "      <td>depression</td>\n",
              "      <td>It is very common for people to have multiple ...</td>\n",
              "      <td>many issues address. history sexual abuse, I’m...</td>\n",
              "      <td>is common people multiple issues want (and nee...</td>\n",
              "      <td>many issue address. history sexual abuse, I’m ...</td>\n",
              "      <td>is common people multiple issue want (and need...</td>\n",
              "    </tr>\n",
              "    <tr>\n",
              "      <th>1</th>\n",
              "      <td>Do I have too many issues for counseling?</td>\n",
              "      <td>I have so many issues to address. I have a his...</td>\n",
              "      <td>depression</td>\n",
              "      <td>I've never heard of someone having \"too many i...</td>\n",
              "      <td>many issues address. history sexual abuse, I’m...</td>\n",
              "      <td>I've never heard someone \"too many issues\" the...</td>\n",
              "      <td>many issue address. history sexual abuse, I’m ...</td>\n",
              "      <td>I've never heard someone \"too many issues\" the...</td>\n",
              "    </tr>\n",
              "    <tr>\n",
              "      <th>2</th>\n",
              "      <td>Do I have too many issues for counseling?</td>\n",
              "      <td>I have so many issues to address. I have a his...</td>\n",
              "      <td>depression</td>\n",
              "      <td>Absolutely not.  I strongly recommending worki...</td>\n",
              "      <td>many issues address. history sexual abuse, I’m...</td>\n",
              "      <td>Absolutely not. strongly recommending working ...</td>\n",
              "      <td>many issue address. history sexual abuse, I’m ...</td>\n",
              "      <td>Absolutely not. strongly recommending working ...</td>\n",
              "    </tr>\n",
              "    <tr>\n",
              "      <th>3</th>\n",
              "      <td>Do I have too many issues for counseling?</td>\n",
              "      <td>I have so many issues to address. I have a his...</td>\n",
              "      <td>depression</td>\n",
              "      <td>Let me start by saying there are never too man...</td>\n",
              "      <td>many issues address. history sexual abuse, I’m...</td>\n",
              "      <td>Let start saying never many concerns can bring...</td>\n",
              "      <td>many issue address. history sexual abuse, I’m ...</td>\n",
              "      <td>Let start saying never many concern can bring ...</td>\n",
              "    </tr>\n",
              "    <tr>\n",
              "      <th>4</th>\n",
              "      <td>Do I have too many issues for counseling?</td>\n",
              "      <td>I have so many issues to address. I have a his...</td>\n",
              "      <td>depression</td>\n",
              "      <td>I just want to acknowledge you for the courage...</td>\n",
              "      <td>many issues address. history sexual abuse, I’m...</td>\n",
              "      <td>want acknowledge courage take step get support...</td>\n",
              "      <td>many issue address. history sexual abuse, I’m ...</td>\n",
              "      <td>want acknowledge courage take step get support...</td>\n",
              "    </tr>\n",
              "    <tr>\n",
              "      <th>...</th>\n",
              "      <td>...</td>\n",
              "      <td>...</td>\n",
              "      <td>...</td>\n",
              "      <td>...</td>\n",
              "      <td>...</td>\n",
              "      <td>...</td>\n",
              "      <td>...</td>\n",
              "      <td>...</td>\n",
              "    </tr>\n",
              "    <tr>\n",
              "      <th>2770</th>\n",
              "      <td>Are some clients more difficult than others?</td>\n",
              "      <td>What are some difficulties that a counselor ca...</td>\n",
              "      <td>counseling-fundamentals</td>\n",
              "      <td>Although many clients have the capacity to be ...</td>\n",
              "      <td>difficulties counselor can encounter dealing c...</td>\n",
              "      <td>Although many clients capacity engaged therape...</td>\n",
              "      <td>difficulty counselor can encounter dealing cli...</td>\n",
              "      <td>Although many client capacity engaged therapeu...</td>\n",
              "    </tr>\n",
              "    <tr>\n",
              "      <th>2771</th>\n",
              "      <td>Are some clients more difficult than others?</td>\n",
              "      <td>What are some difficulties that a counselor ca...</td>\n",
              "      <td>counseling-fundamentals</td>\n",
              "      <td>I usually don't label a client as \"difficult\" ...</td>\n",
              "      <td>difficulties counselor can encounter dealing c...</td>\n",
              "      <td>usually don't label client \"difficult\" whateve...</td>\n",
              "      <td>difficulty counselor can encounter dealing cli...</td>\n",
              "      <td>usually don't label client \"difficult\" whateve...</td>\n",
              "    </tr>\n",
              "    <tr>\n",
              "      <th>2772</th>\n",
              "      <td>Are some clients more difficult than others?</td>\n",
              "      <td>What are some difficulties that a counselor ca...</td>\n",
              "      <td>counseling-fundamentals</td>\n",
              "      <td>Dang right!  :)Heh heh, and correct me if I'm ...</td>\n",
              "      <td>difficulties counselor can encounter dealing c...</td>\n",
              "      <td>Dang right! :)Heh heh, correct I'm wrong... an...</td>\n",
              "      <td>difficulty counselor can encounter dealing cli...</td>\n",
              "      <td>Dang right! :)Heh heh, correct I'm wrong... an...</td>\n",
              "    </tr>\n",
              "    <tr>\n",
              "      <th>2773</th>\n",
              "      <td>Are some clients more difficult than others?</td>\n",
              "      <td>What are some difficulties that a counselor ca...</td>\n",
              "      <td>counseling-fundamentals</td>\n",
              "      <td>Yes, just like some relationships outside of o...</td>\n",
              "      <td>difficulties counselor can encounter dealing c...</td>\n",
              "      <td>Yes, like relationships outside work difficult...</td>\n",
              "      <td>difficulty counselor can encounter dealing cli...</td>\n",
              "      <td>Yes, like relationship outside work difficult ...</td>\n",
              "    </tr>\n",
              "    <tr>\n",
              "      <th>2774</th>\n",
              "      <td>Are some clients more difficult than others?</td>\n",
              "      <td>What are some difficulties that a counselor ca...</td>\n",
              "      <td>counseling-fundamentals</td>\n",
              "      <td>Each counselor will have their own list of \"di...</td>\n",
              "      <td>difficulties counselor can encounter dealing c...</td>\n",
              "      <td>counselor will list \"difficulties\" therapy wor...</td>\n",
              "      <td>difficulty counselor can encounter dealing cli...</td>\n",
              "      <td>counselor will list \"difficulties\" therapy wor...</td>\n",
              "    </tr>\n",
              "  </tbody>\n",
              "</table>\n",
              "<p>2749 rows × 8 columns</p>\n",
              "</div>"
            ],
            "text/plain": [
              "                                     questionTitle  \\\n",
              "0        Do I have too many issues for counseling?   \n",
              "1        Do I have too many issues for counseling?   \n",
              "2        Do I have too many issues for counseling?   \n",
              "3        Do I have too many issues for counseling?   \n",
              "4        Do I have too many issues for counseling?   \n",
              "...                                            ...   \n",
              "2770  Are some clients more difficult than others?   \n",
              "2771  Are some clients more difficult than others?   \n",
              "2772  Are some clients more difficult than others?   \n",
              "2773  Are some clients more difficult than others?   \n",
              "2774  Are some clients more difficult than others?   \n",
              "\n",
              "                                           questionText  \\\n",
              "0     I have so many issues to address. I have a his...   \n",
              "1     I have so many issues to address. I have a his...   \n",
              "2     I have so many issues to address. I have a his...   \n",
              "3     I have so many issues to address. I have a his...   \n",
              "4     I have so many issues to address. I have a his...   \n",
              "...                                                 ...   \n",
              "2770  What are some difficulties that a counselor ca...   \n",
              "2771  What are some difficulties that a counselor ca...   \n",
              "2772  What are some difficulties that a counselor ca...   \n",
              "2773  What are some difficulties that a counselor ca...   \n",
              "2774  What are some difficulties that a counselor ca...   \n",
              "\n",
              "                        topic  \\\n",
              "0                  depression   \n",
              "1                  depression   \n",
              "2                  depression   \n",
              "3                  depression   \n",
              "4                  depression   \n",
              "...                       ...   \n",
              "2770  counseling-fundamentals   \n",
              "2771  counseling-fundamentals   \n",
              "2772  counseling-fundamentals   \n",
              "2773  counseling-fundamentals   \n",
              "2774  counseling-fundamentals   \n",
              "\n",
              "                                             answerText  \\\n",
              "0     It is very common for people to have multiple ...   \n",
              "1     I've never heard of someone having \"too many i...   \n",
              "2     Absolutely not.  I strongly recommending worki...   \n",
              "3     Let me start by saying there are never too man...   \n",
              "4     I just want to acknowledge you for the courage...   \n",
              "...                                                 ...   \n",
              "2770  Although many clients have the capacity to be ...   \n",
              "2771  I usually don't label a client as \"difficult\" ...   \n",
              "2772  Dang right!  :)Heh heh, and correct me if I'm ...   \n",
              "2773  Yes, just like some relationships outside of o...   \n",
              "2774  Each counselor will have their own list of \"di...   \n",
              "\n",
              "                                       cleaned_question  \\\n",
              "0     many issues address. history sexual abuse, I’m...   \n",
              "1     many issues address. history sexual abuse, I’m...   \n",
              "2     many issues address. history sexual abuse, I’m...   \n",
              "3     many issues address. history sexual abuse, I’m...   \n",
              "4     many issues address. history sexual abuse, I’m...   \n",
              "...                                                 ...   \n",
              "2770  difficulties counselor can encounter dealing c...   \n",
              "2771  difficulties counselor can encounter dealing c...   \n",
              "2772  difficulties counselor can encounter dealing c...   \n",
              "2773  difficulties counselor can encounter dealing c...   \n",
              "2774  difficulties counselor can encounter dealing c...   \n",
              "\n",
              "                                         cleaned_answer  \\\n",
              "0     is common people multiple issues want (and nee...   \n",
              "1     I've never heard someone \"too many issues\" the...   \n",
              "2     Absolutely not. strongly recommending working ...   \n",
              "3     Let start saying never many concerns can bring...   \n",
              "4     want acknowledge courage take step get support...   \n",
              "...                                                 ...   \n",
              "2770  Although many clients capacity engaged therape...   \n",
              "2771  usually don't label client \"difficult\" whateve...   \n",
              "2772  Dang right! :)Heh heh, correct I'm wrong... an...   \n",
              "2773  Yes, like relationships outside work difficult...   \n",
              "2774  counselor will list \"difficulties\" therapy wor...   \n",
              "\n",
              "                                    lemmatized_question  \\\n",
              "0     many issue address. history sexual abuse, I’m ...   \n",
              "1     many issue address. history sexual abuse, I’m ...   \n",
              "2     many issue address. history sexual abuse, I’m ...   \n",
              "3     many issue address. history sexual abuse, I’m ...   \n",
              "4     many issue address. history sexual abuse, I’m ...   \n",
              "...                                                 ...   \n",
              "2770  difficulty counselor can encounter dealing cli...   \n",
              "2771  difficulty counselor can encounter dealing cli...   \n",
              "2772  difficulty counselor can encounter dealing cli...   \n",
              "2773  difficulty counselor can encounter dealing cli...   \n",
              "2774  difficulty counselor can encounter dealing cli...   \n",
              "\n",
              "                                      lemmatized_answer  \n",
              "0     is common people multiple issue want (and need...  \n",
              "1     I've never heard someone \"too many issues\" the...  \n",
              "2     Absolutely not. strongly recommending working ...  \n",
              "3     Let start saying never many concern can bring ...  \n",
              "4     want acknowledge courage take step get support...  \n",
              "...                                                 ...  \n",
              "2770  Although many client capacity engaged therapeu...  \n",
              "2771  usually don't label client \"difficult\" whateve...  \n",
              "2772  Dang right! :)Heh heh, correct I'm wrong... an...  \n",
              "2773  Yes, like relationship outside work difficult ...  \n",
              "2774  counselor will list \"difficulties\" therapy wor...  \n",
              "\n",
              "[2749 rows x 8 columns]"
            ]
          },
          "execution_count": 8,
          "metadata": {},
          "output_type": "execute_result"
        }
      ],
      "source": [
        "df"
      ]
    },
    {
      "cell_type": "code",
      "execution_count": 13,
      "metadata": {},
      "outputs": [
        {
          "name": "stdout",
          "output_type": "stream",
          "text": [
            "Chatbot Response: Hi Prattville, I'm sorry is happening you. need support right now, yes, need answers. is denial is trying hide truth, protect herself. is natural behaviour. don't indicate whether wants marriage, is planning leave. way go depends part answer question. wants marriage, certainly right say \"I need answers questions\". Giving information needs (if wants marriage) important protecting herself. would support right advocate information need order feel secure make decisions. may fear truth will turn away. want to, can reassure want marriage matter truth is. marriage is survive, needs openness.If, hand, she's planning end marriage, might want resign fact may never get information seek. better off, case, seeking support friends family rather beating closed door. wife decisions make. Try give bit time make them. can patiently say \"I know thing is happening. Talk can deal together. want move forward need truth.\" time (and good therapist, is willing wants marriage) will tell way one will go. Individually, can seek professional help well.\n"
          ]
        }
      ],
      "source": [
        "import pandas as pd\n",
        "from sentence_transformers import SentenceTransformer, util\n",
        "\n",
        "# Load dataset\n",
        "# df = pd.read_csv(\"C:\\\\Users\\\\chara\\\\OneDrive\\\\Desktop\\\\chatbot\\\\chatbot_project\\\\chatbot\\\\datasets\\\\cleaned_data.csv\")\n",
        "\n",
        "# Load a pre-trained transformer model for embeddings\n",
        "model = SentenceTransformer('all-MiniLM-L6-v2')\n",
        "\n",
        "# Convert text data into embeddings\n",
        "df[\"question_embedding\"] = df[\"cleaned_question\"].apply(lambda x: model.encode(str(x), convert_to_tensor=True))\n",
        "df[\"answer_embedding\"] = df[\"cleaned_answer\"].apply(lambda x: model.encode(str(x), convert_to_tensor=True))\n",
        "\n",
        "# Function to find the best match with a similarity threshold\n",
        "def find_best_match(user_question, threshold=0.5):\n",
        "    user_embedding = model.encode(user_question, convert_to_tensor=True)\n",
        "    \n",
        "    # Compute cosine similarity\n",
        "    similarity_scores = df[\"question_embedding\"].apply(lambda x: util.pytorch_cos_sim(user_embedding, x).item())\n",
        "    \n",
        "    # Get the best match index\n",
        "    best_idx = similarity_scores.idxmax()\n",
        "    best_score = similarity_scores[best_idx]\n",
        "\n",
        "    # Only return response if similarity is above threshold\n",
        "    if best_score >= threshold:\n",
        "        return df.loc[best_idx, \"cleaned_answer\"]\n",
        "    else:\n",
        "        return \"I'm sorry, I don't understand. Can you rephrase?\"\n",
        "\n",
        "# Test the chatbot\n",
        "user_question = \"Hi, my girlfriend is cheating on me.\"\n",
        "response = find_best_match(user_question)\n",
        "print(\"Chatbot Response:\", response)\n"
      ]
    },
    {
      "cell_type": "code",
      "execution_count": 14,
      "metadata": {},
      "outputs": [
        {
          "name": "stdout",
          "output_type": "stream",
          "text": [
            "✅ Model embeddings saved!\n"
          ]
        }
      ],
      "source": [
        "import pickle\n",
        "\n",
        "# Save embeddings and dataframe\n",
        "df.to_pickle(\"chatbot_embeddings.pkl\")\n",
        "\n",
        "print(\"✅ Model embeddings saved!\")\n"
      ]
    }
  ],
  "metadata": {
    "colab": {
      "provenance": []
    },
    "kernelspec": {
      "display_name": "chatbot_env",
      "language": "python",
      "name": "python3"
    },
    "language_info": {
      "codemirror_mode": {
        "name": "ipython",
        "version": 3
      },
      "file_extension": ".py",
      "mimetype": "text/x-python",
      "name": "python",
      "nbconvert_exporter": "python",
      "pygments_lexer": "ipython3",
      "version": "3.13.1"
    }
  },
  "nbformat": 4,
  "nbformat_minor": 0
}
